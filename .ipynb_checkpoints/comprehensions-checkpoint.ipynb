{
 "cells": [
  {
   "cell_type": "code",
   "execution_count": null,
   "metadata": {},
   "outputs": [],
   "source": [
    "numbers = list(range(10))\n",
    "numbers"
   ]
  },
  {
   "cell_type": "code",
   "execution_count": null,
   "metadata": {},
   "outputs": [],
   "source": [
    "output = []\n",
    "for one_number in numbers:\n",
    "    output.append(one_number * one_number)\n",
    "    \n",
    "output"
   ]
  },
  {
   "cell_type": "code",
   "execution_count": null,
   "metadata": {},
   "outputs": [],
   "source": [
    "[one_number * one_number for one_number in numbers]"
   ]
  },
  {
   "cell_type": "code",
   "execution_count": null,
   "metadata": {},
   "outputs": [],
   "source": [
    "words = \"This is a bunch of words\".split()\n",
    "\n",
    "' '.join([one_word.capitalize()\n",
    "for one_word in words])\n"
   ]
  },
  {
   "cell_type": "code",
   "execution_count": null,
   "metadata": {},
   "outputs": [],
   "source": [
    "\"This is a bunch of words\".title()"
   ]
  },
  {
   "cell_type": "code",
   "execution_count": null,
   "metadata": {},
   "outputs": [],
   "source": [
    "mylist = ['abcd', 'efgh', 'ijk']\n",
    "'*'.join(mylist)"
   ]
  },
  {
   "cell_type": "code",
   "execution_count": null,
   "metadata": {},
   "outputs": [],
   "source": [
    "mylist = [10, 20, 30]\n",
    "'*'.join([str(number) for number in mylist])\n"
   ]
  },
  {
   "cell_type": "code",
   "execution_count": null,
   "metadata": {},
   "outputs": [],
   "source": [
    "#split automatically splits on whitespace and makes a list\n",
    "hexnums = input(\"enter hex number: \").split()"
   ]
  },
  {
   "cell_type": "code",
   "execution_count": null,
   "metadata": {},
   "outputs": [],
   "source": [
    "hexnums"
   ]
  },
  {
   "cell_type": "code",
   "execution_count": null,
   "metadata": {},
   "outputs": [],
   "source": [
    "[int(x, 16) for x in hexnums] "
   ]
  },
  {
   "cell_type": "code",
   "execution_count": null,
   "metadata": {},
   "outputs": [],
   "source": [
    "sum( [int(x, 16) for x in hexnums] )"
   ]
  },
  {
   "cell_type": "code",
   "execution_count": null,
   "metadata": {},
   "outputs": [],
   "source": [
    "words = input(\"some words: \")\n",
    "words.split()"
   ]
  },
  {
   "cell_type": "code",
   "execution_count": null,
   "metadata": {},
   "outputs": [],
   "source": [
    "sum([len(word) for word in words.split()])"
   ]
  },
  {
   "cell_type": "code",
   "execution_count": null,
   "metadata": {},
   "outputs": [],
   "source": [
    "##DICTIONARY COMPREHENSION"
   ]
  },
  {
   "cell_type": "code",
   "execution_count": null,
   "metadata": {},
   "outputs": [],
   "source": [
    "d = {\"a\":1, 'b':2, \"c\":3}"
   ]
  },
  {
   "cell_type": "code",
   "execution_count": null,
   "metadata": {},
   "outputs": [],
   "source": [
    "[(one_item , d[one_item] *5) for one_item in d]"
   ]
  },
  {
   "cell_type": "code",
   "execution_count": null,
   "metadata": {},
   "outputs": [],
   "source": [
    "[key * d[key] for key in d]"
   ]
  },
  {
   "cell_type": "code",
   "execution_count": null,
   "metadata": {},
   "outputs": [],
   "source": [
    "d = {\"a\":1, 'b':2, \"c\":3}\n",
    "[one_item \n",
    " for one_item in d.items()]"
   ]
  },
  {
   "cell_type": "code",
   "execution_count": null,
   "metadata": {},
   "outputs": [],
   "source": [
    "def reverse_word(word):\n",
    "    return word[::-1]\n",
    "\n",
    "words = input(\"some words\").split()\n",
    "\n",
    "[reverse_word(one_word) for one_word in words]"
   ]
  },
  {
   "cell_type": "code",
   "execution_count": null,
   "metadata": {},
   "outputs": [],
   "source": [
    "d = {\"a\":1, 'b':2, \"c\":3}\n",
    "[(key, value)\n",
    " for key, value in d.items()]"
   ]
  },
  {
   "cell_type": "code",
   "execution_count": null,
   "metadata": {},
   "outputs": [],
   "source": [
    "[one_line.split(\":\")[0]\n",
    " for one_line in open('/etc/passwd')\n",
    " if not one_line.startswith(\"#\")\n",
    "]"
   ]
  },
  {
   "cell_type": "code",
   "execution_count": null,
   "metadata": {},
   "outputs": [],
   "source": [
    "def counter(number):\n",
    "    if number <=1:\n",
    "        return 1\n",
    "    else:\n",
    "        return number * counter(number-1)\n",
    "\n",
    "number =range(1,6)\n",
    "sum([counter(one_number)\n",
    "for one_number in number])\n",
    "\n"
   ]
  },
  {
   "cell_type": "code",
   "execution_count": null,
   "metadata": {},
   "outputs": [],
   "source": [
    "[ one_item.split()[0]\n",
    " for one_item in open('mini-access-log.txt')    \n",
    "]"
   ]
  },
  {
   "cell_type": "code",
   "execution_count": null,
   "metadata": {},
   "outputs": [],
   "source": [
    "from collections import Counter\n",
    "\n",
    "\n",
    "a = dict(Counter([one_item.split()[0]\n",
    " for one_item in open('mini-access-log.txt')    \n",
    "]))\n",
    "print(a)"
   ]
  },
  {
   "cell_type": "code",
   "execution_count": null,
   "metadata": {},
   "outputs": [],
   "source": [
    "filename = 'linux-etc-passwd.txt'\n",
    "\n",
    "[(one_line.split(':')[0], one_line.split(':')[2])\n",
    "for one_line in open(filename)\n",
    "if (not one_line.startswith(\"#\") and not one_line.startswith('\\n'))\n",
    "]\n",
    "\n"
   ]
  },
  {
   "cell_type": "code",
   "execution_count": null,
   "metadata": {},
   "outputs": [],
   "source": [
    "filename = 'linux-etc-passwd.txt'\n",
    "\n",
    "[tuple(one_line.split(':')[:3:2])\n",
    "for one_line in open(filename)\n",
    "if one_line.strip() and not one_line.startswith(\"#\")\n",
    "]"
   ]
  },
  {
   "cell_type": "code",
   "execution_count": null,
   "metadata": {},
   "outputs": [],
   "source": [
    "#SET COMPREHENSION - used when results need to be unique\n",
    "\n",
    "filename = 'mini-access-log.txt'\n",
    "{one_line.split()[0]\n",
    " for one_line in open(filename)}"
   ]
  },
  {
   "cell_type": "code",
   "execution_count": null,
   "metadata": {},
   "outputs": [],
   "source": [
    "words = \"this is just bunch of random text random text text random this is\"\n",
    "{one_word for one_word in words.split()}"
   ]
  },
  {
   "cell_type": "code",
   "execution_count": null,
   "metadata": {},
   "outputs": [],
   "source": [
    "numbers = input(\"Give me 5 numbers: \")\n",
    "sum({int(number) for number in numbers.split()})"
   ]
  },
  {
   "cell_type": "code",
   "execution_count": null,
   "metadata": {},
   "outputs": [],
   "source": [
    "filename_nums = 'nums.txt'\n",
    "sum({int(one_line.strip())\n",
    "for one_line in open(filename_nums)\n",
    "if one_line.strip()})"
   ]
  },
  {
   "cell_type": "code",
   "execution_count": null,
   "metadata": {},
   "outputs": [],
   "source": [
    "filename_etc = 'linux-etc-passwd.txt'\n",
    "{(one_line.split(':')[-1]).rstrip()\n",
    "for one_line in open(filename_etc)\n",
    "if not one_line.startswith(\"#\") and one_line.strip()\n",
    "}"
   ]
  },
  {
   "cell_type": "code",
   "execution_count": null,
   "metadata": {},
   "outputs": [],
   "source": [
    "#DICT COMPREHENSION\n",
    "\n",
    "filename = 'linux-etc-passwd.txt'\n",
    "\n",
    "{one_line.split(':')[0] : one_line.split(':')[2]\n",
    "for one_line in open(filename)\n",
    "if not one_line.startswith(\"#\") and  one_line.strip()\n",
    "}\n"
   ]
  },
  {
   "cell_type": "code",
   "execution_count": null,
   "metadata": {},
   "outputs": [],
   "source": [
    "words = \"This is a bunch of words\"\n",
    "{one_word: len(one_word)\n",
    "for one_word in words.split()}"
   ]
  },
  {
   "cell_type": "code",
   "execution_count": null,
   "metadata": {},
   "outputs": [],
   "source": [
    "{one_word: len(one_word)\n",
    "for one_word in words.split()\n",
    "if not one_word.startswith(('a','e','i','o','u'))}"
   ]
  },
  {
   "cell_type": "code",
   "execution_count": null,
   "metadata": {},
   "outputs": [],
   "source": [
    "ord('a')"
   ]
  },
  {
   "cell_type": "code",
   "execution_count": 10,
   "metadata": {},
   "outputs": [
    {
     "name": "stdout",
     "output_type": "stream",
     "text": [
      "Give me words:ABC\n"
     ]
    },
    {
     "data": {
      "text/plain": [
       "{'ABC': 6}"
      ]
     },
     "execution_count": 10,
     "metadata": {},
     "output_type": "execute_result"
    }
   ],
   "source": [
    "words = input(\"Give me words:\").split()\n",
    "\n",
    "def score(words):\n",
    "    return sum([ord(one_char) - 96 for one_char in words.lower()    \n",
    "    ])\n",
    "\n",
    "{one_word: score(one_word)\n",
    "for one_word in words\n",
    "}"
   ]
  },
  {
   "cell_type": "code",
   "execution_count": null,
   "metadata": {},
   "outputs": [],
   "source": []
  },
  {
   "cell_type": "code",
   "execution_count": null,
   "metadata": {},
   "outputs": [],
   "source": []
  },
  {
   "cell_type": "code",
   "execution_count": 12,
   "metadata": {},
   "outputs": [
    {
     "name": "stdout",
     "output_type": "stream",
     "text": [
      "Give me words:test two of more filters\n"
     ]
    },
    {
     "data": {
      "text/plain": [
       "{'test': 64, 'two': 58, 'more': 51, 'filters': 89}"
      ]
     },
     "execution_count": 12,
     "metadata": {},
     "output_type": "execute_result"
    }
   ],
   "source": [
    "words = input(\"Give me words:\").split()\n",
    "\n",
    "def score(word):\n",
    "    return sum([ord(one_char) - 96 for one_char in word.lower()     \n",
    "    ])\n",
    "\n",
    "{one_word: score(one_word)\n",
    "for one_word in words\n",
    " if len(one_word) >= 3 and len(one_word) <= 7\n",
    "}"
   ]
  },
  {
   "cell_type": "code",
   "execution_count": 8,
   "metadata": {},
   "outputs": [
    {
     "data": {
      "text/plain": [
       "{1: 'a', 2: 'b', 3: 'c'}"
      ]
     },
     "execution_count": 8,
     "metadata": {},
     "output_type": "execute_result"
    }
   ],
   "source": [
    "dict = {'a':1, 'b':2, 'c':3}\n",
    "\n",
    "{value :key \n",
    "for key, value in dict.items()\n",
    "}"
   ]
  },
  {
   "cell_type": "code",
   "execution_count": null,
   "metadata": {},
   "outputs": [],
   "source": [
    "words = 'words.txt'\n",
    "unique_words = {one_word.strip() for one_word in open(words)}\n",
    "\n",
    "ask_for_words = input(\"Give me words to look up: \").split()\n",
    "def find_a_match(words):\n",
    "    for word in words:\n",
    "        if word in unique_words:\n",
    "            return True\n",
    "        else:\n",
    "            return False\n",
    "\n",
    "{one_word : find_a_match(ask_for_words)\n",
    "for one_word in ask_for_words}\n"
   ]
  },
  {
   "cell_type": "code",
   "execution_count": 14,
   "metadata": {},
   "outputs": [
    {
     "name": "stdout",
     "output_type": "stream",
     "text": [
      "Give me words to look up: this is a floople test\n"
     ]
    },
    {
     "data": {
      "text/plain": [
       "{'this': True, 'is': True, 'a': True, 'floople': False, 'test': True}"
      ]
     },
     "execution_count": 14,
     "metadata": {},
     "output_type": "execute_result"
    }
   ],
   "source": [
    "words = 'words.txt'\n",
    "unique_words = {one_word.strip() for one_word in open(words)}\n",
    "\n",
    "ask_for_words = input(\"Give me words to look up: \").split()\n",
    "\n",
    "{one_word : one_word in unique_words\n",
    "for one_word in ask_for_words}"
   ]
  },
  {
   "cell_type": "code",
   "execution_count": null,
   "metadata": {},
   "outputs": [],
   "source": []
  }
 ],
 "metadata": {
  "kernelspec": {
   "display_name": "Python 3",
   "language": "python",
   "name": "python3"
  },
  "language_info": {
   "codemirror_mode": {
    "name": "ipython",
    "version": 3
   },
   "file_extension": ".py",
   "mimetype": "text/x-python",
   "name": "python",
   "nbconvert_exporter": "python",
   "pygments_lexer": "ipython3",
   "version": "3.8.4"
  }
 },
 "nbformat": 4,
 "nbformat_minor": 4
}
